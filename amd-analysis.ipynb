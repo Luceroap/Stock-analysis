{
 "cells": [
  {
   "cell_type": "code",
   "execution_count": 3,
   "metadata": {},
   "outputs": [],
   "source": [
    "import pandas as pd\n",
    "import matplotlib\n",
    "import os\n",
    "import yfinance as yf\n",
    "import numpy as np\n",
    "import time "
   ]
  },
  {
   "cell_type": "code",
   "execution_count": 9,
   "metadata": {},
   "outputs": [
    {
     "name": "stdout",
     "output_type": "stream",
     "text": [
      "{'zip': '95054-1549', 'sector': 'Technology', 'fullTimeEmployees': 113700, 'longBusinessSummary': 'Intel Corporation designs, manufactures, and sells essential technologies for the cloud, smart, and connected devices for retail, industrial, and consumer uses worldwide. The company operates through DCG, IOTG, Mobileye, NSG, PSG, CCG, and All Other segments. It offers platform products, such as central processing units and chipsets, and system-on-chip and multichip packages; and non-platform or adjacent products comprising accelerators, boards and systems, connectivity products, and memory and storage products. The company also provides Internet of Things products, including high-performance compute solutions for targeted verticals and embedded applications; and computer vision and machine learning-based sensing, data analysis, localization, mapping, and driving policy technology. It serves original equipment manufacturers, original design manufacturers, and cloud service providers. Intel Corporation has a strategic partnership with MILA to develop and apply advances in artificial intelligence methods for enhancing the search in the space of drugs. The company was founded in 1968 and is headquartered in Santa Clara, California.', 'city': 'Santa Clara', 'phone': '408 765 8080', 'state': 'CA', 'country': 'United States', 'companyOfficers': [], 'website': 'http://www.intel.com', 'maxAge': 1, 'address1': '2200 Mission College Boulevard', 'industry': 'Semiconductors', 'ebitdaMargins': 0.44643003, 'profitMargins': 0.23906, 'grossMargins': 0.55594003, 'operatingCashflow': 32362999808, 'revenueGrowth': -0.005, 'operatingMargins': 0.29331, 'ebitda': 34650001408, 'targetLowPrice': 40, 'recommendationKey': 'hold', 'grossProfits': 43612000000, 'freeCashflow': 6619250176, 'targetMedianPrice': 60, 'currentPrice': 56, 'earningsGrowth': 0.042, 'currentRatio': 1.988, 'returnOnAssets': 0.092650004, 'numberOfAnalystOpinions': 39, 'targetMeanPrice': 61.87, 'debtToEquity': 41.556, 'returnOnEquity': 0.22193001, 'targetHighPrice': 85, 'totalCash': 24856999936, 'totalDebt': 35408998400, 'totalRevenue': 77614997504, 'totalCashPerShare': 6.127, 'financialCurrency': 'USD', 'revenuePerShare': 18.942, 'quickRatio': 1.301, 'recommendationMean': 2.8, 'exchange': 'NMS', 'shortName': 'Intel Corporation', 'longName': 'Intel Corporation', 'exchangeTimezoneName': 'America/New_York', 'exchangeTimezoneShortName': 'EDT', 'isEsgPopulated': False, 'gmtOffSetMilliseconds': '-14400000', 'quoteType': 'EQUITY', 'symbol': 'INTC', 'messageBoardId': 'finmb_21127', 'market': 'us_market', 'annualHoldingsTurnover': None, 'enterpriseToRevenue': 3.03, 'beta3Year': None, 'enterpriseToEbitda': 6.788, '52WeekChange': 0.027272701, 'morningStarRiskRating': None, 'forwardEps': 4.41, 'revenueQuarterlyGrowth': None, 'sharesOutstanding': 4056999936, 'fundInceptionDate': None, 'annualReportExpenseRatio': None, 'totalAssets': None, 'bookValue': 21.002, 'sharesShort': 58948195, 'sharesPercentSharesOut': 0.0145000005, 'fundFamily': None, 'lastFiscalYearEnd': 1608940800, 'heldPercentInstitutions': 0.64972, 'netIncomeToCommon': 18555000832, 'trailingEps': 4.503, 'lastDividendValue': 0.348, 'SandP52WeekChange': 0.313509, 'priceToBook': 2.6664126, 'heldPercentInsiders': 0.0007, 'nextFiscalYearEnd': 1672012800, 'yield': None, 'mostRecentQuarter': 1624665600, 'shortRatio': 3.01, 'sharesShortPreviousMonthDate': 1630368000, 'floatShares': 4053348700, 'beta': 0.592063, 'enterpriseValue': 235188092928, 'priceHint': 2, 'threeYearAverageReturn': None, 'lastSplitDate': 965001600, 'lastSplitFactor': '2:1', 'legalType': None, 'lastDividendDate': 1628121600, 'morningStarOverallRating': None, 'earningsQuarterlyGrowth': -0.009, 'priceToSalesTrailing12Months': 2.9271662, 'dateShortInterest': 1632960000, 'pegRatio': 1.12, 'ytdReturn': None, 'forwardPE': 12.698413, 'lastCapGain': None, 'shortPercentOfFloat': 0.0145000005, 'sharesShortPriorMonth': 58851153, 'impliedSharesOutstanding': None, 'category': None, 'fiveYearAverageReturn': None, 'previousClose': 55.37, 'regularMarketOpen': 54.925, 'twoHundredDayAverage': 56.123215, 'trailingAnnualDividendYield': 0.024471736, 'payoutRatio': 0.30110002, 'volume24Hr': None, 'regularMarketDayHigh': 56.07, 'navPrice': None, 'averageDailyVolume10Day': 21896100, 'regularMarketPreviousClose': 55.37, 'fiftyDayAverage': 53.904285, 'trailingAnnualDividendRate': 1.355, 'open': 54.925, 'toCurrency': None, 'averageVolume10days': 21896100, 'expireDate': None, 'algorithm': None, 'dividendRate': 1.39, 'exDividendDate': 1635984000, 'circulatingSupply': None, 'startDate': None, 'regularMarketDayLow': 54.83, 'currency': 'USD', 'trailingPE': 12.436154, 'regularMarketVolume': 30065535, 'lastMarket': None, 'maxSupply': None, 'openInterest': None, 'marketCap': 227191996416, 'volumeAllCurrencies': None, 'strikePrice': None, 'averageVolume': 21085527, 'dayLow': 54.83, 'ask': 51.18, 'askSize': 1100, 'volume': 30065535, 'fiftyTwoWeekHigh': 68.49, 'fromCurrency': None, 'fiveYearAvgDividendYield': 2.49, 'fiftyTwoWeekLow': 43.61, 'bid': 51.11, 'tradeable': False, 'dividendYield': 0.0251, 'bidSize': 4000, 'dayHigh': 56.07, 'regularMarketPrice': 56, 'preMarketPrice': 54.97, 'logo_url': 'https://logo.clearbit.com/intel.com'}\n"
     ]
    }
   ],
   "source": [
    "amd = yf.Ticker(\"AMD\")\n",
    "intel = yf.Ticker('INTC')\n",
    "print(intel.info)"
   ]
  },
  {
   "cell_type": "code",
   "execution_count": null,
   "metadata": {},
   "outputs": [],
   "source": []
  }
 ],
 "metadata": {
  "interpreter": {
   "hash": "f1a332ba46dd188da723af48cf43ed64bcc5970235cd045fb21461f31c8e71d8"
  },
  "kernelspec": {
   "display_name": "Python 3.6.10 64-bit ('PythonData': conda)",
   "name": "python3"
  },
  "language_info": {
   "codemirror_mode": {
    "name": "ipython",
    "version": 3
   },
   "file_extension": ".py",
   "mimetype": "text/x-python",
   "name": "python",
   "nbconvert_exporter": "python",
   "pygments_lexer": "ipython3",
   "version": "3.6.10"
  },
  "orig_nbformat": 4
 },
 "nbformat": 4,
 "nbformat_minor": 2
}
