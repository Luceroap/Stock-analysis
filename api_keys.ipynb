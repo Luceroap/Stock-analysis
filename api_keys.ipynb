{
 "cells": [
  {
   "cell_type": "code",
   "execution_count": 2,
   "metadata": {},
   "outputs": [
    {
     "ename": "SyntaxError",
     "evalue": "invalid syntax (<ipython-input-2-aa1c54147426>, line 1)",
     "output_type": "error",
     "traceback": [
      "\u001b[1;36m  File \u001b[1;32m\"<ipython-input-2-aa1c54147426>\"\u001b[1;36m, line \u001b[1;32m1\u001b[0m\n\u001b[1;33m    curl -X 'GET' \\\u001b[0m\n\u001b[1;37m                ^\u001b[0m\n\u001b[1;31mSyntaxError\u001b[0m\u001b[1;31m:\u001b[0m invalid syntax\n"
     ]
    }
   ],
   "source": [
    "curl -X 'GET' \\\n",
    "  'https://yfapi.net/v8/finance/chart/AMD?comparisons=INTC&range=max&region=US&interval=1d&lang=en&events=div%2Csplit' \\\n",
    "  -H 'accept: application/json'\""
   ]
  }
 ],
 "metadata": {
  "interpreter": {
   "hash": "f1a332ba46dd188da723af48cf43ed64bcc5970235cd045fb21461f31c8e71d8"
  },
  "kernelspec": {
   "display_name": "Python 3.6.10 64-bit ('PythonData': conda)",
   "name": "python3"
  },
  "language_info": {
   "codemirror_mode": {
    "name": "ipython",
    "version": 3
   },
   "file_extension": ".py",
   "mimetype": "text/x-python",
   "name": "python",
   "nbconvert_exporter": "python",
   "pygments_lexer": "ipython3",
   "version": "3.6.10"
  },
  "orig_nbformat": 4
 },
 "nbformat": 4,
 "nbformat_minor": 2
}
